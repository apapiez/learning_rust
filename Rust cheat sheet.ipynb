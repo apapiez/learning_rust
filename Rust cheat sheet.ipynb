{
 "cells": [
  {
   "cell_type": "markdown",
   "id": "9abdb755",
   "metadata": {},
   "source": [
    "<h1 style=\"box-shadow: 4px 4px 4px 4px; background-color:gray\">Variables and Mutability</h1><br>\n",
    "By default, variables are immutable - they cannot be changed once assigned:"
   ]
  },
  {
   "cell_type": "code",
   "execution_count": 33,
   "id": "b1185824",
   "metadata": {},
   "outputs": [
    {
     "ename": "Error",
     "evalue": "cannot assign twice to immutable variable `x`",
     "output_type": "error",
     "traceback": [
      "\u001b[31m[E0384] Error:\u001b[0m cannot assign twice to immutable variable `x`",
      "   \u001b[38;5;246m╭\u001b[0m\u001b[38;5;246m─\u001b[0m\u001b[38;5;246m[\u001b[0mcommand_33:1:1\u001b[38;5;246m]\u001b[0m",
      "   \u001b[38;5;246m│\u001b[0m",
      " \u001b[38;5;246m1 │\u001b[0m \u001b[38;5;249ml\u001b[0m\u001b[38;5;249me\u001b[0m\u001b[38;5;249mt\u001b[0m\u001b[38;5;249m \u001b[0m\u001b[38;5;54mx\u001b[0m\u001b[38;5;249m:\u001b[0m\u001b[38;5;249mu\u001b[0m\u001b[38;5;249m3\u001b[0m\u001b[38;5;249m2\u001b[0m\u001b[38;5;249m \u001b[0m\u001b[38;5;249m=\u001b[0m\u001b[38;5;249m \u001b[0m\u001b[38;5;249m2\u001b[0m\u001b[38;5;249m3\u001b[0m\u001b[38;5;249m;\u001b[0m",
      " \u001b[38;5;246m  ·\u001b[0m     \u001b[38;5;54m┬\u001b[0m  ",
      " \u001b[38;5;246m  ·\u001b[0m     \u001b[38;5;54m╰\u001b[0m\u001b[38;5;54m─\u001b[0m\u001b[38;5;54m─\u001b[0m first assignment to `x`",
      " \u001b[38;5;246m  ·\u001b[0m     \u001b[38;5;68m│\u001b[0m  ",
      " \u001b[38;5;246m  ·\u001b[0m     \u001b[38;5;68m╰\u001b[0m\u001b[38;5;68m─\u001b[0m\u001b[38;5;68m─\u001b[0m help: consider making this binding mutable: `mut x`",
      " \u001b[38;5;246m2 │\u001b[0m \u001b[38;5;100mx\u001b[0m\u001b[38;5;100m \u001b[0m\u001b[38;5;100m=\u001b[0m\u001b[38;5;100m \u001b[0m\u001b[38;5;100mx\u001b[0m\u001b[38;5;100m+\u001b[0m\u001b[38;5;100m1\u001b[0m\u001b[38;5;100m0\u001b[0m\u001b[38;5;249m;\u001b[0m",
      " \u001b[38;5;246m  ·\u001b[0m \u001b[38;5;100m─\u001b[0m\u001b[38;5;100m─\u001b[0m\u001b[38;5;100m─\u001b[0m\u001b[38;5;100m─\u001b[0m\u001b[38;5;100m┬\u001b[0m\u001b[38;5;100m─\u001b[0m\u001b[38;5;100m─\u001b[0m\u001b[38;5;100m─\u001b[0m  ",
      " \u001b[38;5;246m  ·\u001b[0m     \u001b[38;5;100m╰\u001b[0m\u001b[38;5;100m─\u001b[0m\u001b[38;5;100m─\u001b[0m\u001b[38;5;100m─\u001b[0m\u001b[38;5;100m─\u001b[0m\u001b[38;5;100m─\u001b[0m cannot assign twice to immutable variable",
      " \u001b[38;5;246m  ·\u001b[0m ",
      " \u001b[38;5;246m  ·\u001b[0m \u001b[38;5;115mNote\u001b[0m: You can change an existing variable to mutable like: `let mut x = x;`",
      "\u001b[38;5;246m───╯\u001b[0m"
     ]
    }
   ],
   "source": [
    "let x:u32 = 23;\n",
    "x = x+10;"
   ]
  },
  {
   "cell_type": "markdown",
   "id": "32d8a365",
   "metadata": {},
   "source": [
    "We can use the keyword `mut` to either declare a variable as mutable at the time of assignment, or to adjust it to be mutable:"
   ]
  },
  {
   "cell_type": "code",
   "execution_count": 37,
   "id": "5e0e7046",
   "metadata": {
    "scrolled": true
   },
   "outputs": [
    {
     "name": "stdout",
     "output_type": "stream",
     "text": [
      "The value of x is 20\n"
     ]
    },
    {
     "data": {
      "text/plain": [
       "()"
      ]
     },
     "execution_count": 37,
     "metadata": {},
     "output_type": "execute_result"
    }
   ],
   "source": [
    "let x:u32 = 10;\n",
    "let mut x:u32 = x;\n",
    "x = x + 10;\n",
    "println!(\"The value of x is {x}\")"
   ]
  },
  {
   "cell_type": "markdown",
   "id": "928bec29",
   "metadata": {},
   "source": [
    "<hr style=\"height:2px;border-width:1;color:black;background-color:black\">"
   ]
  },
  {
   "cell_type": "markdown",
   "id": "f92a969a",
   "metadata": {},
   "source": [
    "<h4 style=\"box-shadow: 2px 2px 2px 2px;\">Constants</h4><br>\n",
    "Constants are calculated at compile time (therefore cannot rely on variables in their calculation) and cannot be mutated:"
   ]
  },
  {
   "cell_type": "code",
   "execution_count": 39,
   "id": "3b3aa9e2",
   "metadata": {},
   "outputs": [],
   "source": [
    "const PI:f32 = 3.14159;"
   ]
  },
  {
   "cell_type": "markdown",
   "id": "e358ce56",
   "metadata": {},
   "source": [
    "<hr style=\"height:2px;border-width:1;color:black;background-color:black\">"
   ]
  },
  {
   "cell_type": "markdown",
   "id": "2cfe7026",
   "metadata": {},
   "source": [
    "<h3 style=\"box-shadow: 2px 2px 2px 2px; background-color:Gainsboro\">Shadowing</h3><br>\n",
    "Shadowing is effectivley overwriting a variable, by repeating the `let` expression. This allows us to re-use variable names:"
   ]
  },
  {
   "cell_type": "code",
   "execution_count": 40,
   "id": "8b2e24d6",
   "metadata": {},
   "outputs": [
    {
     "name": "stdout",
     "output_type": "stream",
     "text": [
      "The value of x is 10\n",
      "The value of x is 20\n"
     ]
    }
   ],
   "source": [
    "let x:u32 = 10;\n",
    "println!(\"The value of x is {x}\");\n",
    "let x:u32 = x + 10;\n",
    "println!(\"The value of x is {x}\");"
   ]
  },
  {
   "cell_type": "markdown",
   "id": "c00eb006",
   "metadata": {},
   "source": [
    "<hr style=\"height:10px;border-width:1;color:black;background-color:black\">"
   ]
  },
  {
   "cell_type": "markdown",
   "id": "95877e62",
   "metadata": {},
   "source": [
    "<h1 style=\"box-shadow: 4px 4px 4px 4px; background-color:gray\">Data types</h1><br>\n",
    "Rust is statically typed - the data types of all variables must be known at compile time. Often, the compiler will be able to infer what we need:\n"
   ]
  },
  {
   "cell_type": "code",
   "execution_count": 41,
   "id": "977c4968",
   "metadata": {},
   "outputs": [],
   "source": [
    "let x = 32;"
   ]
  },
  {
   "cell_type": "markdown",
   "id": "4811d515",
   "metadata": {},
   "source": [
    "When multiple datatypes are possible, we need to use type annotation to disambiguate the situation:"
   ]
  },
  {
   "cell_type": "code",
   "execution_count": 42,
   "id": "b176c564",
   "metadata": {},
   "outputs": [
    {
     "ename": "Error",
     "evalue": "Couldn't automatically determine type of variable `x`.\nPlease give it an explicit type.",
     "output_type": "error",
     "traceback": [
      "Couldn't automatically determine type of variable `x`.\nPlease give it an explicit type."
     ]
    }
   ],
   "source": [
    "let x = \"42\".parse().expect(\"Not a number!\");"
   ]
  },
  {
   "cell_type": "code",
   "execution_count": 44,
   "id": "85cac899",
   "metadata": {},
   "outputs": [
    {
     "name": "stdout",
     "output_type": "stream",
     "text": [
      "The value of x is 42\n"
     ]
    }
   ],
   "source": [
    "let x:u32 = \"42\".parse().expect(\"Not a number!\");\n",
    "println!(\"The value of x is {x}\");"
   ]
  },
  {
   "cell_type": "markdown",
   "id": "053e90b5",
   "metadata": {},
   "source": [
    "<hr style=\"height:2px;border-width:1;color:black;background-color:black\">"
   ]
  },
  {
   "cell_type": "markdown",
   "id": "556d6e5b",
   "metadata": {},
   "source": [
    "<h3 style=\"box-shadow: 2px 2px 2px 2px; background-color:Gainsboro\">Scalar Types</h3>\n",
    "<h4 style=\"box-shadow: 1px 1px 1px 1px; background-color:MintCream\">Integers</h4>\n",
    "<table>\n",
    "    <tr>\n",
    "        <th>Length</th><th>Signed</th><th>Unsigned</th>\n",
    "    </tr>\n",
    "    <tr>\n",
    "        <td>8-bit</td><td>i8</td><td>u8</td>\n",
    "    </tr>\n",
    "    <tr>\n",
    "        <td>16-bit</td><td>i16</td><td>u16</td>\n",
    "    </tr>\n",
    "    <tr>\n",
    "        <td>32-bit</td><td>i32</td><td>u32</td>\n",
    "    </tr>\n",
    "    <tr>\n",
    "        <td>64-bit</td><td>i64</td><td>u64</td>\n",
    "    </tr>\n",
    "    <tr>\n",
    "        <td>128-bit</td><td>i128</td><td>u128</td>\n",
    "    </tr>\n",
    "    <tr>\n",
    "        <td>arch</td><td>isize</td><td>usize</td>\n",
    "    </tr>\n",
    "</table>\n",
    "\n",
    "An `arch` data type means that the size of the datatype will be defined by the architecture of the machine (so 32 bit or 64 bit, depending on the memory architecture)\n",
    "\n",
    "<h4 style=\"box-shadow: 1px 1px 1px 1px; background-color:MintCream\">Floating point numbers</h4><br>\n",
    "Floating point numbers can be either 32 bit or 64 bit, represented as <code>f32</code> or <code>f64</code>\n",
    "\n",
    "<h4 style=\"box-shadow: 1px 1px 1px 1px; background-color:MintCream\"> Booleans </h4><br>\n",
    "Booleans can take one of two values: <code>true</code> or <code>false</code>\n",
    "\n",
    "<h4 style=\"box-shadow: 1px 1px 1px 1px; background-color:MintCream\"> Characters </h4><br>\n",
    "Characters are the most primitive alphabetic type. The type annotation is <code>char</code>\n",
    "_Note:_ Charcter literals are denoted with single quotes: <code>let c = 'Z';</code>\n",
    "\n",
    "    \n",
    "    \n",
    "        "
   ]
  },
  {
   "cell_type": "markdown",
   "id": "2cb83c3e",
   "metadata": {},
   "source": [
    "<hr style=\"height:2px;border-width:1;color:black;background-color:black\">"
   ]
  },
  {
   "cell_type": "markdown",
   "id": "db2cecfd",
   "metadata": {},
   "source": [
    "<h3 style=\"box-shadow: 2px 2px 2px 2px; background-color:Gainsboro\">Compound types</h3><br>\n",
    "Compound types wrap multiple values into one type. There are two primitive compound types: tuples and arrays:\n",
    "\n",
    "<h4 style=\"box-shadow: 1px 1px 1px 1px; background-color:MintCream\">Tuples</h4><br>\n",
    "\n",
    "Tuples are the most generic way to group variables of different types into one type\n",
    "Once declared, tuples have a fixed size. We can optionally type annotate a tuple:"
   ]
  },
  {
   "cell_type": "code",
   "execution_count": 46,
   "id": "af2df122",
   "metadata": {},
   "outputs": [],
   "source": [
    "let tup: (i32, f64, u8) = (500, 6.4, 1);"
   ]
  },
  {
   "cell_type": "markdown",
   "id": "3ac8a78d",
   "metadata": {},
   "source": [
    "We get the values back out of the tuple either by pattern matching or by dot syntax:"
   ]
  },
  {
   "cell_type": "code",
   "execution_count": 47,
   "id": "4c4c3cb9",
   "metadata": {},
   "outputs": [
    {
     "name": "stdout",
     "output_type": "stream",
     "text": [
      "The first element of tup is 500 and the second is 6.4\n"
     ]
    }
   ],
   "source": [
    "let (x, y, z) = tup;\n",
    "println!(\"The first element of tup is {first} and the second is {second}\",first=x, second=tup.1);"
   ]
  },
  {
   "cell_type": "markdown",
   "id": "9f4f2870",
   "metadata": {},
   "source": [
    "An empty tuple <code>()</code> is call the _unit_ and represents an empty value (similar to <code> null</code>)"
   ]
  },
  {
   "cell_type": "markdown",
   "id": "71d70a3d",
   "metadata": {},
   "source": [
    "<h4 style=\"box-shadow: 1px 1px 1px 1px; background-color:MintCream\">Arrays</h4><br>\n",
    "\n",
    "Arrays are compound data types where each element must be the same. Arrays are less powerful than vectors, but are a way of ensuring that data\n",
    "is allocated on the stack rather than the heap.\n",
    "\n",
    "Arrays are created similarly to tuples, using square brackets instead of parentheses:"
   ]
  },
  {
   "cell_type": "code",
   "execution_count": 49,
   "id": "b51289a6",
   "metadata": {},
   "outputs": [],
   "source": [
    "let a: [i32; 5] = [1, 2, 3, 4, 6]; // we must give the type hint and size of the array to the compiler"
   ]
  },
  {
   "cell_type": "markdown",
   "id": "4e678ea7",
   "metadata": {},
   "source": [
    "Array elements are accessed using indexing like in python:"
   ]
  },
  {
   "cell_type": "code",
   "execution_count": 50,
   "id": "ee4f5ded",
   "metadata": {},
   "outputs": [
    {
     "name": "stdout",
     "output_type": "stream",
     "text": [
      "The second value of a is 2\n"
     ]
    }
   ],
   "source": [
    "println!(\"The second value of a is {x}\",x=a[1]);"
   ]
  },
  {
   "cell_type": "code",
   "execution_count": 56,
   "id": "d828c392",
   "metadata": {},
   "outputs": [
    {
     "name": "stdout",
     "output_type": "stream",
     "text": [
      "J\n"
     ]
    }
   ],
   "source": [
    "let b: [char; 10] = ['A', 'B', 'C', 'D', 'E', 'F', 'G', 'H','I', 'J'];\n",
    "println!(\"{}\", b[9]);"
   ]
  },
  {
   "cell_type": "markdown",
   "id": "800ccecf",
   "metadata": {},
   "source": [
    "<h4 style=\"box-shadow: 1px 1px 1px 1px; background-color:MintCream\">Vectors</h4><br>\n",
    "Vectors are not a standard datatype, rather they are implemented in the Rust standard library.\n",
    "All datatypes in a vector must be the same.\n",
    "A vector is declared with the following syntax:"
   ]
  },
  {
   "cell_type": "code",
   "execution_count": 57,
   "id": "527f16e2",
   "metadata": {},
   "outputs": [],
   "source": [
    "let v: Vec<i32> = Vec::new();"
   ]
  },
  {
   "cell_type": "markdown",
   "id": "efbb8bf6",
   "metadata": {},
   "source": [
    "In the above listing, we are required to provide the type hint because there is no way the compiler can infer the datatype without data. If we provide data, we can ask the compiler to try and infer the type by using the vec! macro:"
   ]
  },
  {
   "cell_type": "code",
   "execution_count": 58,
   "id": "95baa85e",
   "metadata": {},
   "outputs": [],
   "source": [
    "let v2: Vec<_> = vec![1, 2, 3];"
   ]
  },
  {
   "cell_type": "markdown",
   "id": "1f7262b5",
   "metadata": {},
   "source": [
    "We add elements to the vector using the push method:"
   ]
  },
  {
   "cell_type": "code",
   "execution_count": 60,
   "id": "6b2a9f83",
   "metadata": {},
   "outputs": [
    {
     "name": "stdout",
     "output_type": "stream",
     "text": [
      "The second element in the vector is 6\n"
     ]
    }
   ],
   "source": [
    "let mut v = Vec::new();\n",
    "\n",
    "v.push(5);\n",
    "v.push(6);\n",
    "v.push(7);\n",
    "\n",
    "println!(\"The second element in the vector is {}\",v[1]);"
   ]
  },
  {
   "cell_type": "markdown",
   "id": "4e8c0953",
   "metadata": {},
   "source": [
    "<hr style=\"height:10px;border-width:1;color:black;background-color:black\">"
   ]
  },
  {
   "cell_type": "markdown",
   "id": "e5431611",
   "metadata": {},
   "source": [
    "<h1 style=\"box-shadow: 4px 4px 4px 4px; background-color:gray\">Printing</h1><br>\n",
    "\n",
    "Printing is one of the most fundamental requirements of any programme and is particularly important in a systems programming language like rust. \n",
    "\n",
    "In python, \n",
    "\n",
    "```python\n",
    "def test():\n",
    "    print(\"Hello, world\")\n",
    "```\n",
    "\n",
    "---\n",
    "\n",
    "In Rust, this is accomplished with the use of the `println!()` macro:"
   ]
  },
  {
   "cell_type": "code",
   "execution_count": 2,
   "id": "fa308471",
   "metadata": {},
   "outputs": [
    {
     "name": "stdout",
     "output_type": "stream",
     "text": [
      "Hello, world!\n"
     ]
    }
   ],
   "source": [
    "println!(\"Hello, world!\");"
   ]
  },
  {
   "cell_type": "markdown",
   "id": "ea2c1102",
   "metadata": {},
   "source": [
    "In python 3+ we can incorporate variables into the print statement using the \"F-string\" method:\n",
    "\n",
    "```python\n",
    "name = \"Alex\"\n",
    "print(f\"Hello my name is {name}\")\n",
    "```\n",
    "\n",
    "which is directly equivalent to C#'s $ strings\n",
    "\n",
    "```C#\n",
    "string name = \"Alex\";\n",
    "Console.WriteLine($\"Hello, my name is {name}\");\n",
    "```\n",
    "\n",
    "The same method works fine in rust:\n"
   ]
  },
  {
   "cell_type": "code",
   "execution_count": 6,
   "id": "4c6aa128",
   "metadata": {},
   "outputs": [
    {
     "name": "stdout",
     "output_type": "stream",
     "text": [
      "Hello, my name is Alex\n"
     ]
    }
   ],
   "source": [
    "let name = \"Alex\";\n",
    "println!(\"Hello, my name is {name}\");"
   ]
  },
  {
   "cell_type": "markdown",
   "id": "38cf5dd0",
   "metadata": {},
   "source": [
    "We can also incorporate the arguments to the print macro directly into the call:"
   ]
  },
  {
   "cell_type": "code",
   "execution_count": 7,
   "id": "4a70f621",
   "metadata": {},
   "outputs": [
    {
     "name": "stdout",
     "output_type": "stream",
     "text": [
      "Hello, my name is Not Alex\n"
     ]
    }
   ],
   "source": [
    "println!(\"Hello, my name is {name}\",name=\"Not Alex\");"
   ]
  },
  {
   "cell_type": "markdown",
   "id": "64b1886b",
   "metadata": {},
   "source": [
    "<hr style=\"height:2px;border-width:1;color:black;background-color:black\">"
   ]
  },
  {
   "cell_type": "markdown",
   "id": "aee09843",
   "metadata": {},
   "source": [
    "<h3 style=\"box-shadow: 2px 2px 2px 2px; background-color:Gainsboro\"> Gotchas </h3>\n",
    "<h4 style=\"box-shadow: 2px 2px 2px 2px; background-color:MintCream;\">Printing variables and the string literal trap</h4>\n",
    "\n",
    "When trying to print a variable, be aware that the `println!` macro is expecting a string literal. Therefore you can't do the following:\n"
   ]
  },
  {
   "cell_type": "code",
   "execution_count": 18,
   "id": "ea5765a7",
   "metadata": {},
   "outputs": [
    {
     "ename": "Error",
     "evalue": "format argument must be a string literal",
     "output_type": "error",
     "traceback": [
      "\u001b[31mError:\u001b[0m format argument must be a string literal",
      "   \u001b[38;5;246m╭\u001b[0m\u001b[38;5;246m─\u001b[0m\u001b[38;5;246m[\u001b[0mcommand_18:1:1\u001b[38;5;246m]\u001b[0m",
      "   \u001b[38;5;246m│\u001b[0m",
      " \u001b[38;5;246m1 │\u001b[0m \u001b[38;5;249mp\u001b[0m\u001b[38;5;249mr\u001b[0m\u001b[38;5;249mi\u001b[0m\u001b[38;5;249mn\u001b[0m\u001b[38;5;249mt\u001b[0m\u001b[38;5;249ml\u001b[0m\u001b[38;5;249mn\u001b[0m\u001b[38;5;249m!\u001b[0m\u001b[38;5;249m(\u001b[0m\u001b[38;5;54mn\u001b[0m\u001b[38;5;54ma\u001b[0m\u001b[38;5;54mm\u001b[0m\u001b[38;5;54me\u001b[0m\u001b[38;5;249m)\u001b[0m",
      " \u001b[38;5;246m  ·\u001b[0m          \u001b[38;5;100m┬\u001b[0m\u001b[38;5;54m─\u001b[0m\u001b[38;5;54m┬\u001b[0m\u001b[38;5;54m─\u001b[0m  ",
      " \u001b[38;5;246m  ·\u001b[0m          \u001b[38;5;100m╰\u001b[0m\u001b[38;5;100m─\u001b[0m\u001b[38;5;100m─\u001b[0m\u001b[38;5;100m─\u001b[0m\u001b[38;5;100m─\u001b[0m\u001b[38;5;100m─\u001b[0m help: you might be missing a string literal to format with: `\"{}\", `",
      " \u001b[38;5;246m  ·\u001b[0m            \u001b[38;5;54m│\u001b[0m   ",
      " \u001b[38;5;246m  ·\u001b[0m            \u001b[38;5;54m╰\u001b[0m\u001b[38;5;54m─\u001b[0m\u001b[38;5;54m─\u001b[0m\u001b[38;5;54m─\u001b[0m error: format argument must be a string literal",
      "\u001b[38;5;246m───╯\u001b[0m"
     ]
    }
   ],
   "source": [
    "println!(name)"
   ]
  },
  {
   "cell_type": "markdown",
   "id": "7b338576",
   "metadata": {},
   "source": [
    "Instead, we need to pass the variable we intend to print as an argument to be formatted:"
   ]
  },
  {
   "cell_type": "code",
   "execution_count": 21,
   "id": "c008697c",
   "metadata": {},
   "outputs": [
    {
     "name": "stdout",
     "output_type": "stream",
     "text": [
      "Alex\n"
     ]
    }
   ],
   "source": [
    "println!(\"{name}\",name=name);"
   ]
  },
  {
   "cell_type": "markdown",
   "id": "730a6ca2",
   "metadata": {},
   "source": [
    "<hr style=\"height:10px;border-width:1;color:black;background-color:black\">"
   ]
  },
  {
   "cell_type": "markdown",
   "id": "fcb98ed1",
   "metadata": {},
   "source": [
    "<h1 style=\"box-shadow: 4px 4px 4px 4px; background-color:gray\">No Classes, Only structs and enums!</h1><br>"
   ]
  },
  {
   "cell_type": "markdown",
   "id": "92f4f6a5",
   "metadata": {},
   "source": [
    "Rust is not an object oriented language and therefore does not implement the idea of classes. Instead, the programming conceit of data types which share pre-defined functionality is accomplished via structs, which implement specific functions\n",
    "\n",
    "<hr style=\"height:2px;border-width:1;color:black;background-color:black\">\n",
    "\n",
    "<h3 style=\"box-shadow: 2px 2px 2px 2px; background-color:Gainsboro \"> Defining Structs</h3><br>\n",
    "Structs are defined using the `struct` keyword:"
   ]
  },
  {
   "cell_type": "code",
   "execution_count": 11,
   "id": "b76dd9b6",
   "metadata": {},
   "outputs": [],
   "source": [
    "struct User {\n",
    "    active: bool, //syntax is variable name: variable type\n",
    "    username: String,\n",
    "    email: String,\n",
    "    sign_in_count: u64,\n",
    "}"
   ]
  },
  {
   "cell_type": "markdown",
   "id": "1897a576",
   "metadata": {},
   "source": [
    "<hr style=\"height:2px;border-width:1;color:black;background-color:black\">"
   ]
  },
  {
   "cell_type": "markdown",
   "id": "496d8393",
   "metadata": {},
   "source": [
    "<h3 style=\"box-shadow: 2px 2px 2px 2px; background-color:Gainsboro \"> Instantiation of Structs</h3></br>\n",
    "Once defined, we instantiate a `struct` using the following syntax"
   ]
  },
  {
   "cell_type": "code",
   "execution_count": 26,
   "id": "83731a38",
   "metadata": {},
   "outputs": [],
   "source": [
    "let mut user1 = User {\n",
    "        email: String::from(\"someone@example.com\"),\n",
    "        username: String::from(\"someusername123\"),\n",
    "        active: true,\n",
    "        sign_in_count: 1,\n",
    "    };"
   ]
  },
  {
   "cell_type": "markdown",
   "id": "28036bb6",
   "metadata": {},
   "source": [
    "_Note_: If we want to vary any property on the struct, the entire instance must be marked as mutable"
   ]
  },
  {
   "cell_type": "markdown",
   "id": "0b51e660",
   "metadata": {},
   "source": [
    "<hr style=\"height:2px;border-width:1;color:black;background-color:black\">"
   ]
  },
  {
   "cell_type": "markdown",
   "id": "09021ae6",
   "metadata": {},
   "source": [
    "<h4 style=\"box-shadow: 1px 1px 1px 1px; background-color:MintCream \"> Field Init Shorthand</h4><br>\n",
    "\n",
    "A shorthand exists so that when we are building init functions for structs, we don't have to repeat variable names too much:"
   ]
  },
  {
   "cell_type": "code",
   "execution_count": 23,
   "id": "b11d5f1b",
   "metadata": {},
   "outputs": [],
   "source": [
    "fn build_user(email: String, username: String) -> User{\n",
    "    User{\n",
    "        email, \n",
    "        username,\n",
    "        active: true,\n",
    "        sign_in_count: 1,\n",
    "    }\n",
    "}"
   ]
  },
  {
   "cell_type": "markdown",
   "id": "bac7d0bf",
   "metadata": {},
   "source": [
    "<hr style=\"height:2px;border-width:1;color:black;background-color:black\">"
   ]
  },
  {
   "cell_type": "markdown",
   "id": "27aea45b",
   "metadata": {},
   "source": [
    "<h4 style=\"box-shadow: 1px 1px 1px 1px; background-color:MintCream \"> Struct Update syntax</h4><br>\n",
    "Occasions may arise where we wish to create a new struct, using the fields from an input struct:"
   ]
  },
  {
   "cell_type": "code",
   "execution_count": 27,
   "id": "58562498",
   "metadata": {},
   "outputs": [],
   "source": [
    "let user2 = User {\n",
    "        active: user1.active,\n",
    "        username: user1.username,\n",
    "        email: String::from(\"another@example.com\"),\n",
    "        sign_in_count: user1.sign_in_count,\n",
    "    };"
   ]
  },
  {
   "cell_type": "markdown",
   "id": "a6a6b8be",
   "metadata": {},
   "source": [
    "Struct Update syntax gives us a shorthand to accomplish the same objective:\n"
   ]
  },
  {
   "cell_type": "code",
   "execution_count": 28,
   "id": "2894c01b",
   "metadata": {},
   "outputs": [],
   "source": [
    "let user3 = User{\n",
    "    email: String::from(\"another@example.com\"),\n",
    "    ..user2\n",
    "};"
   ]
  },
  {
   "cell_type": "markdown",
   "id": "35f17b0d",
   "metadata": {},
   "source": [
    "<hr style=\"height:2px;border-width:1;color:black;background-color:black\">"
   ]
  },
  {
   "cell_type": "markdown",
   "id": "bb165cb8",
   "metadata": {},
   "source": [
    "<h3 style=\"box-shadow: 2px 2px 2px 2px; background-color:Gainsboro \"> Accessing Members of Structs</h3><br>\n",
    "We can access struct members using the dot notation, familiar from object oriented languages:"
   ]
  },
  {
   "cell_type": "code",
   "execution_count": 17,
   "id": "df5b868f",
   "metadata": {},
   "outputs": [
    {
     "name": "stdout",
     "output_type": "stream",
     "text": [
      "anotheremail@example.com\n"
     ]
    }
   ],
   "source": [
    "user1.email = String::from(\"anotheremail@example.com\");\n",
    "println!(\"{}\",user1.email);"
   ]
  },
  {
   "cell_type": "code",
   "execution_count": null,
   "id": "31d5fe4b",
   "metadata": {},
   "outputs": [],
   "source": []
  }
 ],
 "metadata": {
  "kernelspec": {
   "display_name": "Rust",
   "language": "rust",
   "name": "rust"
  },
  "language_info": {
   "codemirror_mode": "rust",
   "file_extension": ".rs",
   "mimetype": "text/rust",
   "name": "rust",
   "pygment_lexer": "rust",
   "version": ""
  }
 },
 "nbformat": 4,
 "nbformat_minor": 5
}
